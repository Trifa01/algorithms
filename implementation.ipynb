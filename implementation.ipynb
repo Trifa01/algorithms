{
 "cells": [
  {
   "cell_type": "markdown",
   "source": [
    "# Implementation of some of the most famous algorithms"
   ],
   "metadata": {}
  },
  {
   "cell_type": "markdown",
   "source": [
    "## Search"
   ],
   "metadata": {}
  },
  {
   "cell_type": "code",
   "execution_count": 4,
   "source": [
    "L = list(range(100))\n",
    "x = 76\n",
    "def linear_search(x, L):\n",
    "    for i in L:\n",
    "        if i==x:\n",
    "            return i\n",
    "\n",
    "linear_search(x,L)"
   ],
   "outputs": [
    {
     "output_type": "execute_result",
     "data": {
      "text/plain": [
       "76"
      ]
     },
     "metadata": {},
     "execution_count": 4
    }
   ],
   "metadata": {}
  },
  {
   "cell_type": "code",
   "execution_count": 21,
   "source": [
    "\n",
    "def binary_search(x,L):\n",
    "    a=0\n",
    "    b=len(L)-1\n",
    "    while a <= b:\n",
    "        mid = (a+b)//2\n",
    "        if x == L[mid]:\n",
    "            return mid\n",
    "        elif x > L[mid]:\n",
    "            a = mid + 1\n",
    "        else:\n",
    "            b = mid -1\n",
    "    return None\n",
    "\n",
    "def binary_search_recursive(x,L):\n",
    "    if len(L) == 0:\n",
    "        return None\n",
    "    else:\n",
    "        mid = len(L)//2\n",
    "        if x == L[mid]:\n",
    "            return x\n",
    "        else:\n",
    "            if x > L[mid]:\n",
    "                return binary_search_recursive(x, L[mid+1:])\n",
    "            elif x < L[mid]:\n",
    "                return binary_search_recursive(x, L[:mid-1])\n",
    "\n"
   ],
   "outputs": [],
   "metadata": {}
  },
  {
   "cell_type": "code",
   "execution_count": 22,
   "source": [
    "L = list(range(100))\n",
    "x = 76\n",
    "print(binary_search_recursive(5,L))"
   ],
   "outputs": [
    {
     "output_type": "stream",
     "name": "stdout",
     "text": [
      "5\n"
     ]
    }
   ],
   "metadata": {}
  }
 ],
 "metadata": {
  "orig_nbformat": 4,
  "language_info": {
   "name": "python",
   "version": "3.9.6",
   "mimetype": "text/x-python",
   "codemirror_mode": {
    "name": "ipython",
    "version": 3
   },
   "pygments_lexer": "ipython3",
   "nbconvert_exporter": "python",
   "file_extension": ".py"
  },
  "kernelspec": {
   "name": "python3",
   "display_name": "Python 3.9.6 64-bit ('algos-env': venv)"
  },
  "interpreter": {
   "hash": "6b39d3511708ada6d9daf3f7448ca76c5d0b975e6d298a1a411b2bcdbfcc661f"
  }
 },
 "nbformat": 4,
 "nbformat_minor": 2
}